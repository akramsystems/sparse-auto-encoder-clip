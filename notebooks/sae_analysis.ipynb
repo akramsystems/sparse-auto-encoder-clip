{
 "cells": [
  {
   "cell_type": "markdown",
   "metadata": {},
   "source": [
    "# SAE ANALYSIS"
   ]
  },
  {
   "cell_type": "code",
   "execution_count": 2,
   "metadata": {},
   "outputs": [
    {
     "name": "stderr",
     "output_type": "stream",
     "text": [
      "/opt/homebrew/anaconda3/envs/sae-clip/lib/python3.10/site-packages/tqdm/auto.py:21: TqdmWarning: IProgress not found. Please update jupyter and ipywidgets. See https://ipywidgets.readthedocs.io/en/stable/user_install.html\n",
      "  from .autonotebook import tqdm as notebook_tqdm\n"
     ]
    }
   ],
   "source": [
    "import sys\n",
    "import os\n",
    "sys.path.append(os.path.abspath('..'))\n",
    "\n",
    "import torch\n",
    "import torch.nn.functional as F\n",
    "from tqdm import tqdm\n",
    "import matplotlib.pyplot as plt\n",
    "import numpy as np\n",
    "from scipy import stats\n",
    "\n",
    "from src.data.dataloader import load_data\n",
    "from src.models.clip_extractor import CLIPViTBaseExtractor\n",
    "from src.models.sae_model import SparseAutoencoder\n",
    "\n",
    "device = torch.device(\"mps\" if torch.backends.mps.is_available() else \"cpu\")"
   ]
  },
  {
   "cell_type": "markdown",
   "metadata": {},
   "source": [
    "### Load Model and Data"
   ]
  },
  {
   "cell_type": "code",
   "execution_count": 5,
   "metadata": {},
   "outputs": [
    {
     "name": "stderr",
     "output_type": "stream",
     "text": [
      "Generating train split: 100%|██████████| 100000/100000 [00:01<00:00, 85314.48 examples/s]\n",
      "Generating valid split: 100%|██████████| 10000/10000 [00:00<00:00, 131585.60 examples/s]\n",
      "/var/folders/94/217422514zd4vjkxjzd7ljt00000gn/T/ipykernel_81445/2351961377.py:8: FutureWarning: You are using `torch.load` with `weights_only=False` (the current default value), which uses the default pickle module implicitly. It is possible to construct malicious pickle data which will execute arbitrary code during unpickling (See https://github.com/pytorch/pytorch/blob/main/SECURITY.md#untrusted-models for more details). In a future release, the default value for `weights_only` will be flipped to `True`. This limits the functions that could be executed during unpickling. Arbitrary objects will no longer be allowed to be loaded via this mode unless they are explicitly allowlisted by the user via `torch.serialization.add_safe_globals`. We recommend you start setting `weights_only=True` for any use case where you don't have full control of the loaded file. Please open an issue on GitHub for any issues related to this experimental feature.\n",
      "  sae.load_state_dict(torch.load(saved_model_path, map_location=device))\n"
     ]
    },
    {
     "data": {
      "text/plain": [
       "<All keys matched successfully>"
      ]
     },
     "execution_count": 5,
     "metadata": {},
     "output_type": "execute_result"
    }
   ],
   "source": [
    "\n",
    "test_data_loader = load_data(batch_size=32, subset_size=1000, split=\"valid\")\n",
    "\n",
    "feature_extractor = CLIPViTBaseExtractor().to(device)\n",
    "\n",
    "sae = SparseAutoencoder(input_dim=768, expansion_factor=64).to(device)\n",
    "saved_model_path = os.path.abspath('../sae_epoch_10.pth')\n",
    "assert os.path.exists(saved_model_path)\n",
    "sae.load_state_dict(torch.load(saved_model_path, map_location=device))\n"
   ]
  },
  {
   "cell_type": "markdown",
   "metadata": {},
   "source": [
    "### Evaluate Reconstruction"
   ]
  },
  {
   "cell_type": "code",
   "execution_count": 6,
   "metadata": {},
   "outputs": [
    {
     "name": "stderr",
     "output_type": "stream",
     "text": [
      "Evaluating reconstruction:  22%|██▏       | 7/32 [00:26<01:34,  3.79s/it, MSE=0.000126]\n"
     ]
    },
    {
     "ename": "KeyboardInterrupt",
     "evalue": "",
     "output_type": "error",
     "traceback": [
      "\u001b[0;31m---------------------------------------------------------------------------\u001b[0m",
      "\u001b[0;31mKeyboardInterrupt\u001b[0m                         Traceback (most recent call last)",
      "Cell \u001b[0;32mIn[6], line 60\u001b[0m\n\u001b[1;32m     57\u001b[0m     \u001b[38;5;28;01mreturn\u001b[39;00m mse_values\n\u001b[1;32m     59\u001b[0m \u001b[38;5;66;03m# Run the analysis\u001b[39;00m\n\u001b[0;32m---> 60\u001b[0m \u001b[43mevaluate_reconstruction_with_distribution\u001b[49m\u001b[43m(\u001b[49m\u001b[43mtest_data_loader\u001b[49m\u001b[43m,\u001b[49m\u001b[43m \u001b[49m\u001b[43msae\u001b[49m\u001b[43m,\u001b[49m\u001b[43m \u001b[49m\u001b[43mfeature_extractor\u001b[49m\u001b[43m)\u001b[49m\n",
      "Cell \u001b[0;32mIn[6], line 19\u001b[0m, in \u001b[0;36mevaluate_reconstruction_with_distribution\u001b[0;34m(test_loader, sae, feature_extractor, device)\u001b[0m\n\u001b[1;32m     17\u001b[0m \u001b[38;5;66;03m# Compute reconstruction loss\u001b[39;00m\n\u001b[1;32m     18\u001b[0m mse_loss \u001b[38;5;241m=\u001b[39m F\u001b[38;5;241m.\u001b[39mmse_loss(reconstructed, clip_features)\n\u001b[0;32m---> 19\u001b[0m mse_values\u001b[38;5;241m.\u001b[39mappend(\u001b[43mmse_loss\u001b[49m\u001b[38;5;241;43m.\u001b[39;49m\u001b[43mitem\u001b[49m\u001b[43m(\u001b[49m\u001b[43m)\u001b[49m)\n\u001b[1;32m     21\u001b[0m \u001b[38;5;66;03m# Update progress bar with current mean loss\u001b[39;00m\n\u001b[1;32m     22\u001b[0m progress_bar\u001b[38;5;241m.\u001b[39mset_postfix({\u001b[38;5;124m'\u001b[39m\u001b[38;5;124mMSE\u001b[39m\u001b[38;5;124m'\u001b[39m: \u001b[38;5;124mf\u001b[39m\u001b[38;5;124m'\u001b[39m\u001b[38;5;132;01m{\u001b[39;00mnp\u001b[38;5;241m.\u001b[39mmean(mse_values)\u001b[38;5;132;01m:\u001b[39;00m\u001b[38;5;124m.6f\u001b[39m\u001b[38;5;132;01m}\u001b[39;00m\u001b[38;5;124m'\u001b[39m})\n",
      "\u001b[0;31mKeyboardInterrupt\u001b[0m: "
     ]
    }
   ],
   "source": [
    "def evaluate_reconstruction_with_distribution(test_loader, sae, feature_extractor, device=\"mps\"):\n",
    "    sae.eval()\n",
    "    mse_values = []\n",
    "\n",
    "    with torch.no_grad():\n",
    "        progress_bar = tqdm(test_loader, desc=\"Evaluating reconstruction\")\n",
    "        \n",
    "        for batch in progress_bar:\n",
    "            batch = batch.to(device)\n",
    "            clip_features = feature_extractor(batch)\n",
    "            _, reconstructed = sae(clip_features)\n",
    "            \n",
    "            # Compute reconstruction loss\n",
    "            mse_loss = F.mse_loss(reconstructed, clip_features)\n",
    "            mse_values.append(mse_loss.item())\n",
    "            \n",
    "            # Update progress bar with current mean loss\n",
    "            progress_bar.set_postfix({'MSE': f'{np.mean(mse_values):.6f}'})\n",
    "\n",
    "    # Convert to numpy array for easier analysis\n",
    "    mse_values = np.array(mse_values)\n",
    "    \n",
    "    # Calculate statistics\n",
    "    mean_mse = np.mean(mse_values)\n",
    "    std_mse = np.std(mse_values)\n",
    "    \n",
    "    # Create the plot\n",
    "    plt.figure(figsize=(10, 6))\n",
    "    plt.hist(mse_values, bins=30, density=True, alpha=0.7, color='blue')\n",
    "    plt.axvline(mean_mse, color='red', linestyle='dashed', linewidth=2, label=f'Mean: {mean_mse:.6f}')\n",
    "    \n",
    "    # Add a normal distribution curve\n",
    "    xmin, xmax = plt.xlim()\n",
    "    x = np.linspace(xmin, xmax, 100)\n",
    "    p = stats.norm.pdf(x, mean_mse, std_mse)\n",
    "    plt.plot(x, p, 'k', linewidth=2, label='Normal dist. fit')\n",
    "    \n",
    "    plt.title('Distribution of Reconstruction MSE Values')\n",
    "    plt.xlabel('MSE Value')\n",
    "    plt.ylabel('Density')\n",
    "    plt.legend()\n",
    "    plt.grid(True, alpha=0.3)\n",
    "    \n",
    "    # Print statistics\n",
    "    print(f\"\\nMSE Statistics:\")\n",
    "    print(f\"Mean: {mean_mse:.6f}\")\n",
    "    print(f\"Std Dev: {std_mse:.6f}\")\n",
    "    print(f\"Min: {np.min(mse_values):.6f}\")\n",
    "    print(f\"Max: {np.max(mse_values):.6f}\")\n",
    "    \n",
    "    plt.show()\n",
    "    \n",
    "    return mse_values\n",
    "\n",
    "# Run the analysis\n",
    "evaluate_reconstruction_with_distribution(test_data_loader, sae, feature_extractor)\n"
   ]
  },
  {
   "cell_type": "markdown",
   "metadata": {},
   "source": [
    "### Evaluate Sparsity"
   ]
  },
  {
   "cell_type": "code",
   "execution_count": 7,
   "metadata": {},
   "outputs": [
    {
     "name": "stderr",
     "output_type": "stream",
     "text": [
      "Evaluating sparsity: 100%|██████████| 32/32 [00:50<00:00,  1.57s/it]\n"
     ]
    },
    {
     "data": {
      "image/png": "[encoded data removed]",
      "text/plain": [
       "<Figure size 1500x500 with 3 Axes>"
      ]
     },
     "metadata": {},
     "output_type": "display_data"
    },
    {
     "name": "stdout",
     "output_type": "stream",
     "text": [
      "\n",
      "Sparsity Statistics:\n",
      "Average L1 norm: 0.004167\n",
      "Dead neurons: 48001/49152 (97.66%)\n",
      "Mean activation frequency: 0.020627\n",
      "Std activation frequency: 0.139539\n"
     ]
    }
   ],
   "source": [
    "def evaluate_sparsity(test_loader, sae, feature_extractor, device=\"mps\"):\n",
    "    \"\"\"\n",
    "    Evaluates different sparsity metrics of the SAE's encoded representations:\n",
    "    1. Average activation (L1 norm)\n",
    "    2. Fraction of dead neurons (never activate)\n",
    "    3. Activation frequency per neuron\n",
    "    4. Distribution of activations\n",
    "    \"\"\"\n",
    "    sae.eval()\n",
    "    all_activations = []\n",
    "    \n",
    "    with torch.no_grad():\n",
    "        progress_bar = tqdm(test_loader, desc=\"Evaluating sparsity\")\n",
    "        \n",
    "        for batch in progress_bar:\n",
    "            batch = batch.to(device)\n",
    "            clip_features = feature_extractor(batch)\n",
    "            encoded, _ = sae(clip_features)\n",
    "            all_activations.append(encoded.cpu())\n",
    "    \n",
    "    # Concatenate all activations\n",
    "    all_activations = torch.cat(all_activations, dim=0)\n",
    "    \n",
    "    # 1. Average activation (L1 norm per sample)\n",
    "    l1_norms = torch.mean(torch.abs(all_activations), dim=1)\n",
    "    avg_l1 = torch.mean(l1_norms)\n",
    "    \n",
    "    # 2. Dead neurons (never activate)\n",
    "    neuron_activations = torch.sum(all_activations > 0, dim=0)\n",
    "    dead_neurons = torch.sum(neuron_activations == 0)\n",
    "    total_neurons = all_activations.shape[1]\n",
    "    dead_ratio = dead_neurons / total_neurons\n",
    "    \n",
    "    # 3. Activation frequency per neuron\n",
    "    activation_frequencies = torch.mean((all_activations > 0).float(), dim=0)\n",
    "    \n",
    "    # Create visualizations\n",
    "    plt.figure(figsize=(15, 5))\n",
    "    \n",
    "    # Plot 1: Distribution of L1 norms\n",
    "    plt.subplot(1, 3, 1)\n",
    "    plt.hist(l1_norms.numpy(), bins=50, density=True)\n",
    "    plt.title('Distribution of L1 Norms')\n",
    "    plt.xlabel('L1 Norm')\n",
    "    plt.ylabel('Density')\n",
    "    \n",
    "    # Plot 2: Distribution of activation values\n",
    "    plt.subplot(1, 3, 2)\n",
    "    plt.hist(all_activations.numpy().flatten(), bins=50, density=True)\n",
    "    plt.title('Distribution of Activation Values')\n",
    "    plt.yscale('log')\n",
    "    plt.xlabel('Activation Value')\n",
    "    plt.ylabel('Density')\n",
    "    \n",
    "    # Plot 3: Neuron activation frequencies\n",
    "    plt.subplot(1, 3, 3)\n",
    "    plt.hist(activation_frequencies.numpy(), bins=50, density=True)\n",
    "    plt.title('Neuron Activation Frequencies')\n",
    "    plt.yscale('log')\n",
    "    plt.xlabel('Activation Frequency')\n",
    "    plt.ylabel('Density')\n",
    "    \n",
    "    plt.tight_layout()\n",
    "    plt.show()\n",
    "    \n",
    "    # Print statistics\n",
    "    print(\"\\nSparsity Statistics:\")\n",
    "    print(f\"Average L1 norm: {avg_l1:.6f}\")\n",
    "    print(f\"Dead neurons: {dead_neurons}/{total_neurons} ({dead_ratio*100:.2f}%)\")\n",
    "    print(f\"Mean activation frequency: {torch.mean(activation_frequencies):.6f}\")\n",
    "    print(f\"Std activation frequency: {torch.std(activation_frequencies):.6f}\")\n",
    "    \n",
    "    return {\n",
    "        'l1_norms': l1_norms,\n",
    "        'activation_frequencies': activation_frequencies,\n",
    "        'all_activations': all_activations,\n",
    "        'dead_neurons': dead_neurons,\n",
    "        'avg_l1': avg_l1\n",
    "    }\n",
    "\n",
    "sparsity_metrics = evaluate_sparsity(test_data_loader, sae, feature_extractor)"
   ]
  }
 ],
 "metadata": {
  "kernelspec": {
   "display_name": "sae-clip",
   "language": "python",
   "name": "python3"
  },
  "language_info": {
   "codemirror_mode": {
    "name": "ipython",
    "version": 3
   },
   "file_extension": ".py",
   "mimetype": "text/x-python",
   "name": "python",
   "nbconvert_exporter": "python",
   "pygments_lexer": "ipython3",
   "version": "3.10.12"
  }
 },
 "nbformat": 4,
 "nbformat_minor": 2
}
